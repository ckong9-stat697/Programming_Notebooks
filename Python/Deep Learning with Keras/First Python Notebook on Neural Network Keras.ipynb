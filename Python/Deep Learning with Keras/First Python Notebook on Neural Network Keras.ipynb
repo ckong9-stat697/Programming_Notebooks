{
 "cells": [
  {
   "cell_type": "markdown",
   "metadata": {
    "colab_type": "text",
    "id": "view-in-github"
   },
   "source": [
    "<a href=\"https://colab.research.google.com/github/ckong9-stat697/DeepLearn-with-Python/blob/master/First%20Python%20Notebook.ipynb\" target=\"_parent\"><img src=\"https://colab.research.google.com/assets/colab-badge.svg\" alt=\"Open In Colab\"/></a>"
   ]
  },
  {
   "cell_type": "markdown",
   "metadata": {
    "colab": {},
    "colab_type": "code",
    "id": "fQBPewgkV5oT"
   },
   "source": [
    "The following is captured from \n",
    "machinelearningmastery.com/tutorial-first-neural-network-python-keras/"
   ]
  },
  {
   "cell_type": "code",
   "execution_count": 1,
   "metadata": {},
   "outputs": [
    {
     "name": "stderr",
     "output_type": "stream",
     "text": [
      "Using TensorFlow backend.\n",
      "/Users/Kelvin/opt/anaconda3/lib/python3.7/site-packages/tensorflow/python/framework/dtypes.py:526: FutureWarning: Passing (type, 1) or '1type' as a synonym of type is deprecated; in a future version of numpy, it will be understood as (type, (1,)) / '(1,)type'.\n",
      "  _np_qint8 = np.dtype([(\"qint8\", np.int8, 1)])\n",
      "/Users/Kelvin/opt/anaconda3/lib/python3.7/site-packages/tensorflow/python/framework/dtypes.py:527: FutureWarning: Passing (type, 1) or '1type' as a synonym of type is deprecated; in a future version of numpy, it will be understood as (type, (1,)) / '(1,)type'.\n",
      "  _np_quint8 = np.dtype([(\"quint8\", np.uint8, 1)])\n",
      "/Users/Kelvin/opt/anaconda3/lib/python3.7/site-packages/tensorflow/python/framework/dtypes.py:528: FutureWarning: Passing (type, 1) or '1type' as a synonym of type is deprecated; in a future version of numpy, it will be understood as (type, (1,)) / '(1,)type'.\n",
      "  _np_qint16 = np.dtype([(\"qint16\", np.int16, 1)])\n",
      "/Users/Kelvin/opt/anaconda3/lib/python3.7/site-packages/tensorflow/python/framework/dtypes.py:529: FutureWarning: Passing (type, 1) or '1type' as a synonym of type is deprecated; in a future version of numpy, it will be understood as (type, (1,)) / '(1,)type'.\n",
      "  _np_quint16 = np.dtype([(\"quint16\", np.uint16, 1)])\n",
      "/Users/Kelvin/opt/anaconda3/lib/python3.7/site-packages/tensorflow/python/framework/dtypes.py:530: FutureWarning: Passing (type, 1) or '1type' as a synonym of type is deprecated; in a future version of numpy, it will be understood as (type, (1,)) / '(1,)type'.\n",
      "  _np_qint32 = np.dtype([(\"qint32\", np.int32, 1)])\n",
      "/Users/Kelvin/opt/anaconda3/lib/python3.7/site-packages/tensorflow/python/framework/dtypes.py:535: FutureWarning: Passing (type, 1) or '1type' as a synonym of type is deprecated; in a future version of numpy, it will be understood as (type, (1,)) / '(1,)type'.\n",
      "  np_resource = np.dtype([(\"resource\", np.ubyte, 1)])\n"
     ]
    }
   ],
   "source": [
    "from numpy import loadtxt\n",
    "from keras.models import Sequential\n",
    "from keras.layers import Dense"
   ]
  },
  {
   "cell_type": "code",
   "execution_count": 3,
   "metadata": {},
   "outputs": [],
   "source": [
    "dataset = loadtxt('pima-indians-diabetes.csv', delimiter=',')"
   ]
  },
  {
   "cell_type": "code",
   "execution_count": 4,
   "metadata": {},
   "outputs": [],
   "source": [
    "X = dataset[:,0:8]\n",
    "y = dataset[:,8]"
   ]
  },
  {
   "cell_type": "markdown",
   "metadata": {},
   "source": [
    "Defining the keras model"
   ]
  },
  {
   "cell_type": "code",
   "execution_count": 6,
   "metadata": {},
   "outputs": [],
   "source": [
    "model = Sequential()\n",
    "model.add(Dense(12, input_dim=8, activation='relu'))\n",
    "model.add(Dense(8, activation='relu'))\n",
    "model.add(Dense(1, activation='sigmoid'))"
   ]
  },
  {
   "cell_type": "markdown",
   "metadata": {},
   "source": [
    "Compile Keras Model"
   ]
  },
  {
   "cell_type": "code",
   "execution_count": 7,
   "metadata": {},
   "outputs": [],
   "source": [
    "model.compile(loss='binary_crossentropy', optimizer='adam', metrics=['accuracy'])"
   ]
  },
  {
   "cell_type": "markdown",
   "metadata": {},
   "source": [
    "Fit Keras Model"
   ]
  },
  {
   "cell_type": "code",
   "execution_count": 8,
   "metadata": {},
   "outputs": [
    {
     "name": "stdout",
     "output_type": "stream",
     "text": [
      "WARNING:tensorflow:From /Users/Kelvin/opt/anaconda3/lib/python3.7/site-packages/tensorflow/python/ops/math_ops.py:3066: to_int32 (from tensorflow.python.ops.math_ops) is deprecated and will be removed in a future version.\n",
      "Instructions for updating:\n",
      "Use tf.cast instead.\n",
      "Epoch 1/150\n",
      "768/768 [==============================] - 0s 458us/step - loss: 5.3136 - accuracy: 0.6029\n",
      "Epoch 2/150\n",
      "768/768 [==============================] - 0s 191us/step - loss: 4.4307 - accuracy: 0.6471\n",
      "Epoch 3/150\n",
      "768/768 [==============================] - 0s 172us/step - loss: 4.1281 - accuracy: 0.6471\n",
      "Epoch 4/150\n",
      "768/768 [==============================] - 0s 191us/step - loss: 4.0133 - accuracy: 0.6445\n",
      "Epoch 5/150\n",
      "768/768 [==============================] - 0s 180us/step - loss: 3.9226 - accuracy: 0.6497\n",
      "Epoch 6/150\n",
      "768/768 [==============================] - 0s 187us/step - loss: 3.8658 - accuracy: 0.6380\n",
      "Epoch 7/150\n",
      "768/768 [==============================] - 0s 185us/step - loss: 3.0618 - accuracy: 0.6445\n",
      "Epoch 8/150\n",
      "768/768 [==============================] - 0s 175us/step - loss: 1.4727 - accuracy: 0.6328\n",
      "Epoch 9/150\n",
      "768/768 [==============================] - 0s 209us/step - loss: 1.1108 - accuracy: 0.6693\n",
      "Epoch 10/150\n",
      "768/768 [==============================] - 0s 175us/step - loss: 1.0153 - accuracy: 0.6497\n",
      "Epoch 11/150\n",
      "768/768 [==============================] - 0s 174us/step - loss: 0.9472 - accuracy: 0.6693\n",
      "Epoch 12/150\n",
      "768/768 [==============================] - 0s 162us/step - loss: 0.8811 - accuracy: 0.6823\n",
      "Epoch 13/150\n",
      "768/768 [==============================] - 0s 164us/step - loss: 0.8641 - accuracy: 0.6680\n",
      "Epoch 14/150\n",
      "768/768 [==============================] - 0s 172us/step - loss: 0.8126 - accuracy: 0.6758\n",
      "Epoch 15/150\n",
      "768/768 [==============================] - 0s 181us/step - loss: 0.8012 - accuracy: 0.6875\n",
      "Epoch 16/150\n",
      "768/768 [==============================] - 0s 190us/step - loss: 0.7808 - accuracy: 0.6745\n",
      "Epoch 17/150\n",
      "768/768 [==============================] - 0s 203us/step - loss: 0.7865 - accuracy: 0.6771\n",
      "Epoch 18/150\n",
      "768/768 [==============================] - 0s 198us/step - loss: 0.7430 - accuracy: 0.6849\n",
      "Epoch 19/150\n",
      "768/768 [==============================] - 0s 181us/step - loss: 0.7330 - accuracy: 0.7096\n",
      "Epoch 20/150\n",
      "768/768 [==============================] - 0s 209us/step - loss: 0.7907 - accuracy: 0.6719\n",
      "Epoch 21/150\n",
      "768/768 [==============================] - 0s 241us/step - loss: 0.6893 - accuracy: 0.6888\n",
      "Epoch 22/150\n",
      "768/768 [==============================] - 0s 179us/step - loss: 0.7415 - accuracy: 0.6862\n",
      "Epoch 23/150\n",
      "768/768 [==============================] - 0s 235us/step - loss: 0.6834 - accuracy: 0.6966\n",
      "Epoch 24/150\n",
      "768/768 [==============================] - 0s 185us/step - loss: 0.6834 - accuracy: 0.6745\n",
      "Epoch 25/150\n",
      "768/768 [==============================] - 0s 206us/step - loss: 0.7297 - accuracy: 0.6654\n",
      "Epoch 26/150\n",
      "768/768 [==============================] - 0s 174us/step - loss: 0.6369 - accuracy: 0.6966\n",
      "Epoch 27/150\n",
      "768/768 [==============================] - 0s 180us/step - loss: 0.6489 - accuracy: 0.6875\n",
      "Epoch 28/150\n",
      "768/768 [==============================] - 0s 234us/step - loss: 0.5994 - accuracy: 0.7031\n",
      "Epoch 29/150\n",
      "768/768 [==============================] - 0s 244us/step - loss: 0.6625 - accuracy: 0.6888\n",
      "Epoch 30/150\n",
      "768/768 [==============================] - 0s 264us/step - loss: 0.6067 - accuracy: 0.7122\n",
      "Epoch 31/150\n",
      "768/768 [==============================] - 0s 242us/step - loss: 0.6272 - accuracy: 0.6992\n",
      "Epoch 32/150\n",
      "768/768 [==============================] - 0s 213us/step - loss: 0.6040 - accuracy: 0.7201\n",
      "Epoch 33/150\n",
      "768/768 [==============================] - 0s 232us/step - loss: 0.6540 - accuracy: 0.6849\n",
      "Epoch 34/150\n",
      "768/768 [==============================] - 0s 245us/step - loss: 0.5978 - accuracy: 0.7135\n",
      "Epoch 35/150\n",
      "768/768 [==============================] - 0s 238us/step - loss: 0.6182 - accuracy: 0.6927\n",
      "Epoch 36/150\n",
      "768/768 [==============================] - 0s 184us/step - loss: 0.6135 - accuracy: 0.7044\n",
      "Epoch 37/150\n",
      "768/768 [==============================] - 0s 197us/step - loss: 0.6244 - accuracy: 0.6953\n",
      "Epoch 38/150\n",
      "768/768 [==============================] - 0s 188us/step - loss: 0.5966 - accuracy: 0.7044\n",
      "Epoch 39/150\n",
      "768/768 [==============================] - 0s 194us/step - loss: 0.5966 - accuracy: 0.7083\n",
      "Epoch 40/150\n",
      "768/768 [==============================] - 0s 191us/step - loss: 0.6325 - accuracy: 0.6849\n",
      "Epoch 41/150\n",
      "768/768 [==============================] - 0s 188us/step - loss: 0.5776 - accuracy: 0.7135\n",
      "Epoch 42/150\n",
      "768/768 [==============================] - 0s 185us/step - loss: 0.5566 - accuracy: 0.7279\n",
      "Epoch 43/150\n",
      "768/768 [==============================] - 0s 208us/step - loss: 0.6148 - accuracy: 0.7031\n",
      "Epoch 44/150\n",
      "768/768 [==============================] - 0s 186us/step - loss: 0.5674 - accuracy: 0.7135\n",
      "Epoch 45/150\n",
      "768/768 [==============================] - 0s 180us/step - loss: 0.5979 - accuracy: 0.7044\n",
      "Epoch 46/150\n",
      "768/768 [==============================] - 0s 200us/step - loss: 0.5754 - accuracy: 0.7174\n",
      "Epoch 47/150\n",
      "768/768 [==============================] - 0s 198us/step - loss: 0.5423 - accuracy: 0.7344\n",
      "Epoch 48/150\n",
      "768/768 [==============================] - 0s 209us/step - loss: 0.6027 - accuracy: 0.7227\n",
      "Epoch 49/150\n",
      "768/768 [==============================] - 0s 194us/step - loss: 0.5758 - accuracy: 0.7201\n",
      "Epoch 50/150\n",
      "768/768 [==============================] - 0s 170us/step - loss: 0.5972 - accuracy: 0.7161\n",
      "Epoch 51/150\n",
      "768/768 [==============================] - 0s 215us/step - loss: 0.5847 - accuracy: 0.7083\n",
      "Epoch 52/150\n",
      "768/768 [==============================] - 0s 192us/step - loss: 0.5781 - accuracy: 0.7044\n",
      "Epoch 53/150\n",
      "768/768 [==============================] - 0s 188us/step - loss: 0.6320 - accuracy: 0.6797\n",
      "Epoch 54/150\n",
      "768/768 [==============================] - 0s 188us/step - loss: 0.5500 - accuracy: 0.7370\n",
      "Epoch 55/150\n",
      "768/768 [==============================] - 0s 202us/step - loss: 0.5915 - accuracy: 0.6992\n",
      "Epoch 56/150\n",
      "768/768 [==============================] - 0s 214us/step - loss: 0.5763 - accuracy: 0.7370\n",
      "Epoch 57/150\n",
      "768/768 [==============================] - 0s 220us/step - loss: 0.5562 - accuracy: 0.7305\n",
      "Epoch 58/150\n",
      "768/768 [==============================] - 0s 194us/step - loss: 0.5491 - accuracy: 0.7096\n",
      "Epoch 59/150\n",
      "768/768 [==============================] - 0s 181us/step - loss: 0.5492 - accuracy: 0.7305\n",
      "Epoch 60/150\n",
      "768/768 [==============================] - 0s 180us/step - loss: 0.5570 - accuracy: 0.7253\n",
      "Epoch 61/150\n",
      "768/768 [==============================] - 0s 250us/step - loss: 0.5545 - accuracy: 0.7292\n",
      "Epoch 62/150\n",
      "768/768 [==============================] - 0s 161us/step - loss: 0.5513 - accuracy: 0.7409\n",
      "Epoch 63/150\n",
      "768/768 [==============================] - 0s 170us/step - loss: 0.5469 - accuracy: 0.7279\n",
      "Epoch 64/150\n",
      "768/768 [==============================] - 0s 217us/step - loss: 0.5317 - accuracy: 0.7435\n",
      "Epoch 65/150\n",
      "768/768 [==============================] - 0s 184us/step - loss: 0.5585 - accuracy: 0.7357\n",
      "Epoch 66/150\n",
      "768/768 [==============================] - 0s 195us/step - loss: 0.5274 - accuracy: 0.7539\n",
      "Epoch 67/150\n",
      "768/768 [==============================] - 0s 229us/step - loss: 0.5334 - accuracy: 0.7422\n",
      "Epoch 68/150\n",
      "768/768 [==============================] - 0s 211us/step - loss: 0.5626 - accuracy: 0.7370\n",
      "Epoch 69/150\n",
      "768/768 [==============================] - 0s 192us/step - loss: 0.5774 - accuracy: 0.7188\n",
      "Epoch 70/150\n",
      "768/768 [==============================] - 0s 201us/step - loss: 0.5249 - accuracy: 0.7565\n",
      "Epoch 71/150\n",
      "768/768 [==============================] - 0s 215us/step - loss: 0.5598 - accuracy: 0.7318\n",
      "Epoch 72/150\n",
      "768/768 [==============================] - 0s 240us/step - loss: 0.5391 - accuracy: 0.7513\n",
      "Epoch 73/150\n",
      "768/768 [==============================] - 0s 198us/step - loss: 0.5508 - accuracy: 0.7018\n",
      "Epoch 74/150\n",
      "768/768 [==============================] - 0s 264us/step - loss: 0.5401 - accuracy: 0.7487\n",
      "Epoch 75/150\n",
      "768/768 [==============================] - 0s 287us/step - loss: 0.5689 - accuracy: 0.72140s - loss: 0.6025 - accuracy: \n",
      "Epoch 76/150\n",
      "768/768 [==============================] - 0s 200us/step - loss: 0.5326 - accuracy: 0.7500\n"
     ]
    },
    {
     "name": "stdout",
     "output_type": "stream",
     "text": [
      "Epoch 77/150\n",
      "768/768 [==============================] - 0s 178us/step - loss: 0.5643 - accuracy: 0.7383\n",
      "Epoch 78/150\n",
      "768/768 [==============================] - 0s 190us/step - loss: 0.5286 - accuracy: 0.7344\n",
      "Epoch 79/150\n",
      "768/768 [==============================] - 0s 202us/step - loss: 0.5485 - accuracy: 0.7305\n",
      "Epoch 80/150\n",
      "768/768 [==============================] - 0s 186us/step - loss: 0.5312 - accuracy: 0.7396\n",
      "Epoch 81/150\n",
      "768/768 [==============================] - 0s 176us/step - loss: 0.5463 - accuracy: 0.7266\n",
      "Epoch 82/150\n",
      "768/768 [==============================] - 0s 174us/step - loss: 0.5504 - accuracy: 0.7266\n",
      "Epoch 83/150\n",
      "768/768 [==============================] - 0s 179us/step - loss: 0.5279 - accuracy: 0.7409\n",
      "Epoch 84/150\n",
      "768/768 [==============================] - 0s 215us/step - loss: 0.5234 - accuracy: 0.7396\n",
      "Epoch 85/150\n",
      "768/768 [==============================] - 0s 264us/step - loss: 0.5476 - accuracy: 0.7500\n",
      "Epoch 86/150\n",
      "768/768 [==============================] - 0s 186us/step - loss: 0.5186 - accuracy: 0.7513\n",
      "Epoch 87/150\n",
      "768/768 [==============================] - 0s 175us/step - loss: 0.5257 - accuracy: 0.7396\n",
      "Epoch 88/150\n",
      "768/768 [==============================] - 0s 177us/step - loss: 0.5226 - accuracy: 0.7487\n",
      "Epoch 89/150\n",
      "768/768 [==============================] - 0s 185us/step - loss: 0.5521 - accuracy: 0.7227\n",
      "Epoch 90/150\n",
      "768/768 [==============================] - 0s 178us/step - loss: 0.5706 - accuracy: 0.7188\n",
      "Epoch 91/150\n",
      "768/768 [==============================] - 0s 184us/step - loss: 0.5092 - accuracy: 0.7591\n",
      "Epoch 92/150\n",
      "768/768 [==============================] - 0s 191us/step - loss: 0.5102 - accuracy: 0.7461\n",
      "Epoch 93/150\n",
      "768/768 [==============================] - 0s 176us/step - loss: 0.5225 - accuracy: 0.7396\n",
      "Epoch 94/150\n",
      "768/768 [==============================] - 0s 190us/step - loss: 0.5152 - accuracy: 0.7591\n",
      "Epoch 95/150\n",
      "768/768 [==============================] - 0s 197us/step - loss: 0.5159 - accuracy: 0.7487\n",
      "Epoch 96/150\n",
      "768/768 [==============================] - 0s 183us/step - loss: 0.5106 - accuracy: 0.7539\n",
      "Epoch 97/150\n",
      "768/768 [==============================] - 0s 182us/step - loss: 0.5054 - accuracy: 0.7617\n",
      "Epoch 98/150\n",
      "768/768 [==============================] - 0s 196us/step - loss: 0.5188 - accuracy: 0.7552\n",
      "Epoch 99/150\n",
      "768/768 [==============================] - 0s 189us/step - loss: 0.5009 - accuracy: 0.7526\n",
      "Epoch 100/150\n",
      "768/768 [==============================] - 0s 173us/step - loss: 0.4996 - accuracy: 0.7578\n",
      "Epoch 101/150\n",
      "768/768 [==============================] - 0s 176us/step - loss: 0.5280 - accuracy: 0.7721\n",
      "Epoch 102/150\n",
      "768/768 [==============================] - 0s 176us/step - loss: 0.5504 - accuracy: 0.7383\n",
      "Epoch 103/150\n",
      "768/768 [==============================] - 0s 203us/step - loss: 0.5118 - accuracy: 0.7539\n",
      "Epoch 104/150\n",
      "768/768 [==============================] - 0s 233us/step - loss: 0.5189 - accuracy: 0.7526\n",
      "Epoch 105/150\n",
      "768/768 [==============================] - 0s 182us/step - loss: 0.5203 - accuracy: 0.7513\n",
      "Epoch 106/150\n",
      "768/768 [==============================] - 0s 173us/step - loss: 0.5212 - accuracy: 0.7474\n",
      "Epoch 107/150\n",
      "768/768 [==============================] - 0s 244us/step - loss: 0.5090 - accuracy: 0.7526\n",
      "Epoch 108/150\n",
      "768/768 [==============================] - 0s 251us/step - loss: 0.5057 - accuracy: 0.7643\n",
      "Epoch 109/150\n",
      "768/768 [==============================] - 0s 282us/step - loss: 0.4929 - accuracy: 0.7578\n",
      "Epoch 110/150\n",
      "768/768 [==============================] - 0s 224us/step - loss: 0.5099 - accuracy: 0.7552\n",
      "Epoch 111/150\n",
      "768/768 [==============================] - 0s 228us/step - loss: 0.5141 - accuracy: 0.7669\n",
      "Epoch 112/150\n",
      "768/768 [==============================] - 0s 190us/step - loss: 0.5153 - accuracy: 0.7617\n",
      "Epoch 113/150\n",
      "768/768 [==============================] - 0s 176us/step - loss: 0.5370 - accuracy: 0.7344\n",
      "Epoch 114/150\n",
      "768/768 [==============================] - 0s 220us/step - loss: 0.5276 - accuracy: 0.7448\n",
      "Epoch 115/150\n",
      "768/768 [==============================] - 0s 322us/step - loss: 0.5101 - accuracy: 0.7500\n",
      "Epoch 116/150\n",
      "768/768 [==============================] - 0s 250us/step - loss: 0.5137 - accuracy: 0.7656\n",
      "Epoch 117/150\n",
      "768/768 [==============================] - 0s 212us/step - loss: 0.5334 - accuracy: 0.7383\n",
      "Epoch 118/150\n",
      "768/768 [==============================] - 0s 178us/step - loss: 0.4967 - accuracy: 0.7643\n",
      "Epoch 119/150\n",
      "768/768 [==============================] - 0s 196us/step - loss: 0.4841 - accuracy: 0.7643\n",
      "Epoch 120/150\n",
      "768/768 [==============================] - 0s 226us/step - loss: 0.4925 - accuracy: 0.7617\n",
      "Epoch 121/150\n",
      "768/768 [==============================] - 0s 207us/step - loss: 0.5073 - accuracy: 0.7578\n",
      "Epoch 122/150\n",
      "768/768 [==============================] - 0s 187us/step - loss: 0.5293 - accuracy: 0.7474\n",
      "Epoch 123/150\n",
      "768/768 [==============================] - 0s 191us/step - loss: 0.5071 - accuracy: 0.7578\n",
      "Epoch 124/150\n",
      "768/768 [==============================] - 0s 293us/step - loss: 0.5042 - accuracy: 0.7526\n",
      "Epoch 125/150\n",
      "768/768 [==============================] - 0s 260us/step - loss: 0.4950 - accuracy: 0.7591\n",
      "Epoch 126/150\n",
      "768/768 [==============================] - 0s 177us/step - loss: 0.5406 - accuracy: 0.7357\n",
      "Epoch 127/150\n",
      "768/768 [==============================] - 0s 186us/step - loss: 0.4888 - accuracy: 0.7786\n",
      "Epoch 128/150\n",
      "768/768 [==============================] - 0s 171us/step - loss: 0.4942 - accuracy: 0.7604\n",
      "Epoch 129/150\n",
      "768/768 [==============================] - 0s 219us/step - loss: 0.4934 - accuracy: 0.7695\n",
      "Epoch 130/150\n",
      "768/768 [==============================] - 0s 255us/step - loss: 0.5619 - accuracy: 0.7383\n",
      "Epoch 131/150\n",
      "768/768 [==============================] - 0s 165us/step - loss: 0.5128 - accuracy: 0.7604\n",
      "Epoch 132/150\n",
      "768/768 [==============================] - 0s 280us/step - loss: 0.4998 - accuracy: 0.7617\n",
      "Epoch 133/150\n",
      "768/768 [==============================] - 0s 261us/step - loss: 0.5037 - accuracy: 0.7656\n",
      "Epoch 134/150\n",
      "768/768 [==============================] - 0s 251us/step - loss: 0.4996 - accuracy: 0.7578\n",
      "Epoch 135/150\n",
      "768/768 [==============================] - 0s 219us/step - loss: 0.5184 - accuracy: 0.7526\n",
      "Epoch 136/150\n",
      "768/768 [==============================] - 0s 199us/step - loss: 0.5390 - accuracy: 0.7474\n",
      "Epoch 137/150\n",
      "768/768 [==============================] - 0s 205us/step - loss: 0.5165 - accuracy: 0.7552\n",
      "Epoch 138/150\n",
      "768/768 [==============================] - 0s 212us/step - loss: 0.4951 - accuracy: 0.7591\n",
      "Epoch 139/150\n",
      "768/768 [==============================] - 0s 182us/step - loss: 0.4917 - accuracy: 0.7695\n",
      "Epoch 140/150\n",
      "768/768 [==============================] - 0s 167us/step - loss: 0.4873 - accuracy: 0.7630\n",
      "Epoch 141/150\n",
      "768/768 [==============================] - 0s 184us/step - loss: 0.4796 - accuracy: 0.7734\n",
      "Epoch 142/150\n",
      "768/768 [==============================] - 0s 180us/step - loss: 0.5117 - accuracy: 0.7565\n",
      "Epoch 143/150\n",
      "768/768 [==============================] - 0s 180us/step - loss: 0.4873 - accuracy: 0.7565\n",
      "Epoch 144/150\n",
      "768/768 [==============================] - 0s 167us/step - loss: 0.5007 - accuracy: 0.7617\n",
      "Epoch 145/150\n",
      "768/768 [==============================] - 0s 177us/step - loss: 0.4996 - accuracy: 0.7474\n",
      "Epoch 146/150\n",
      "768/768 [==============================] - 0s 169us/step - loss: 0.5180 - accuracy: 0.7461\n",
      "Epoch 147/150\n",
      "768/768 [==============================] - 0s 171us/step - loss: 0.4856 - accuracy: 0.7760\n",
      "Epoch 148/150\n",
      "768/768 [==============================] - 0s 166us/step - loss: 0.5251 - accuracy: 0.7526\n",
      "Epoch 149/150\n",
      "768/768 [==============================] - 0s 159us/step - loss: 0.4832 - accuracy: 0.7721\n",
      "Epoch 150/150\n",
      "768/768 [==============================] - 0s 208us/step - loss: 0.4826 - accuracy: 0.7721\n"
     ]
    },
    {
     "data": {
      "text/plain": [
       "<keras.callbacks.callbacks.History at 0x7fbe8cb09610>"
      ]
     },
     "execution_count": 8,
     "metadata": {},
     "output_type": "execute_result"
    }
   ],
   "source": [
    "model.fit(X, y, epochs=150, batch_size=10)"
   ]
  },
  {
   "cell_type": "markdown",
   "metadata": {},
   "source": [
    "Evaluate the Keras Model"
   ]
  },
  {
   "cell_type": "code",
   "execution_count": 9,
   "metadata": {},
   "outputs": [
    {
     "name": "stdout",
     "output_type": "stream",
     "text": [
      "768/768 [==============================] - 0s 130us/step\n",
      "Accuracy: 77.86\n"
     ]
    }
   ],
   "source": [
    "_, accuracy = model.evaluate(X, y)\n",
    "print(\"Accuracy: %.2f\" % (accuracy*100))"
   ]
  },
  {
   "cell_type": "markdown",
   "metadata": {},
   "source": [
    "Making Prediction"
   ]
  },
  {
   "cell_type": "code",
   "execution_count": 13,
   "metadata": {},
   "outputs": [],
   "source": [
    "predictions = model.predict(X)\n",
    "rounded = [round(x[0]) for x in predictions]"
   ]
  },
  {
   "cell_type": "code",
   "execution_count": 15,
   "metadata": {},
   "outputs": [
    {
     "name": "stdout",
     "output_type": "stream",
     "text": [
      "[6.0, 148.0, 72.0, 35.0, 0.0, 33.6, 0.627, 50.0] => 1 (expected 1)\n",
      "[1.0, 85.0, 66.0, 29.0, 0.0, 26.6, 0.351, 31.0] => 0 (expected 0)\n",
      "[8.0, 183.0, 64.0, 0.0, 0.0, 23.3, 0.672, 32.0] => 1 (expected 1)\n",
      "[1.0, 89.0, 66.0, 23.0, 94.0, 28.1, 0.167, 21.0] => 0 (expected 0)\n",
      "[0.0, 137.0, 40.0, 35.0, 168.0, 43.1, 2.288, 33.0] => 1 (expected 1)\n"
     ]
    }
   ],
   "source": [
    "#or alternately we can use\n",
    "predictions = model.predict_classes(X)\n",
    "# Printing first five cases\n",
    "for i in range(5):\n",
    "    print('%s => %d (expected %d)' % (X[i].tolist(), predictions[i], y[i]))"
   ]
  },
  {
   "cell_type": "code",
   "execution_count": null,
   "metadata": {},
   "outputs": [],
   "source": []
  }
 ],
 "metadata": {
  "colab": {
   "authorship_tag": "ABX9TyNgVQtza5bTFFdYzX2M+i8k",
   "collapsed_sections": [],
   "include_colab_link": true,
   "name": "Untitled0.ipynb",
   "provenance": []
  },
  "kernelspec": {
   "display_name": "Python 3",
   "language": "python",
   "name": "python3"
  },
  "language_info": {
   "codemirror_mode": {
    "name": "ipython",
    "version": 3
   },
   "file_extension": ".py",
   "mimetype": "text/x-python",
   "name": "python",
   "nbconvert_exporter": "python",
   "pygments_lexer": "ipython3",
   "version": "3.7.6"
  }
 },
 "nbformat": 4,
 "nbformat_minor": 1
}
